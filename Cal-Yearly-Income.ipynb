{
 "cells": [
  {
   "cell_type": "code",
   "execution_count": 1,
   "metadata": {},
   "outputs": [
    {
     "name": "stdin",
     "output_type": "stream",
     "text": [
      "Please enter your name:  Amanda\n",
      "Please enter your monthly salary:  2000\n"
     ]
    },
    {
     "name": "stdout",
     "output_type": "stream",
     "text": [
      "Amanda, your total yearly income is $24000.00.\n"
     ]
    }
   ],
   "source": [
    "def calculate_yearly_income():\n",
    "    # Take name input\n",
    "    name = input(\"Please enter your name: \")\n",
    "    \n",
    "    # Take monthly salary as input\n",
    "    monthly_salary_input = input(\"Please enter your monthly salary: \")\n",
    "    \n",
    "    # Try to convert the monthly salary to a float and calculate yearly income\n",
    "    try:\n",
    "        monthly_salary = float(monthly_salary_input)\n",
    "        yearly_income = monthly_salary * 12  # Calculate yearly income\n",
    "        \n",
    "        # Print a message including the name and the yearly income\n",
    "        print(f\"{name}, your total yearly income is ${yearly_income:.2f}.\")\n",
    "    \n",
    "    except ValueError:\n",
    "        # If the input is not a valid number, print an error message\n",
    "        print(\"Please enter a valid number for your monthly salary.\")\n",
    "        \n",
    "# Call the function\n",
    "calculate_yearly_income()"
   ]
  },
  {
   "cell_type": "code",
   "execution_count": null,
   "metadata": {},
   "outputs": [],
   "source": []
  }
 ],
 "metadata": {
  "kernelspec": {
   "display_name": "Python 3",
   "language": "python",
   "name": "python3"
  },
  "language_info": {
   "codemirror_mode": {
    "name": "ipython",
    "version": 3
   },
   "file_extension": ".py",
   "mimetype": "text/x-python",
   "name": "python",
   "nbconvert_exporter": "python",
   "pygments_lexer": "ipython3",
   "version": "3.8.3"
  }
 },
 "nbformat": 4,
 "nbformat_minor": 4
}
